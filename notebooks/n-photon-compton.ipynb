{
 "cells": [
  {
   "cell_type": "code",
   "execution_count": 1,
   "metadata": {},
   "outputs": [],
   "source": [
    "using QEDFeynmanDiagrams\n",
    "using QEDcore\n",
    "using QEDprocesses\n",
    "using ComputableDAGs"
   ]
  },
  {
   "cell_type": "code",
   "execution_count": 2,
   "metadata": {},
   "outputs": [
    {
     "name": "stdout",
     "output_type": "stream",
     "text": [
      "Diagrams for the process: 720\n"
     ]
    },
    {
     "data": {
      "text/plain": [
       "Graph:\n",
       "  Nodes: Total: 2605, QEDFeynmanDiagrams.ComputeTask_Triple: 480, QEDFeynmanDiagrams.ComputeTask_BaseState: 11, \n",
       "         DataTask: 1339, QEDFeynmanDiagrams.ComputeTask_Propagator: 62, QEDFeynmanDiagrams.ComputeTask_CollectPairs: 168, \n",
       "         QEDFeynmanDiagrams.ComputeTask_CollectTriples: 8, QEDFeynmanDiagrams.ComputeTask_SpinPolCumulation: 1, QEDFeynmanDiagrams.ComputeTask_PropagatePairs: 168, \n",
       "         QEDFeynmanDiagrams.ComputeTask_Pair: 368\n",
       "  Edges: 4707\n",
       "  Total Compute Effort: 0.0\n",
       "  Total Data Transfer: 0.0\n",
       "  Total Compute Intensity: 0.0\n"
      ]
     },
     "metadata": {},
     "output_type": "display_data"
    }
   ],
   "source": [
    "n = 5\n",
    "proc = ScatteringProcess(\n",
    "    (Electron(), ntuple(_ -> Photon(), n)...),  # incoming particles\n",
    "    (Electron(), Photon()),                     # outgoing particles\n",
    "    (AllSpin(), ntuple(_ -> PolX(), n)...),     # incoming particle spin/pols\n",
    "    (AllSpin(), AllPol())                       # outgoing particle spin/pols\n",
    ") # compton: k^n e -> ke, with all spin/pol combinations except incoming photons\n",
    "psp = PhaseSpacePoint(\n",
    "    proc,\n",
    "    PerturbativeQED(),\n",
    "    PhasespaceDefinition(SphericalCoordinateSystem(), ElectronRestFrame()),\n",
    "    tuple((rand(SFourMomentum) for _ in 1:number_incoming_particles(proc))...),\n",
    "    tuple((rand(SFourMomentum) for _ in 1:number_outgoing_particles(proc))...)\n",
    ")\n",
    "println(\"Diagrams for the process: $(length(feynman_diagrams(proc)))\")\n",
    "graph = generate_DAG(proc)"
   ]
  },
  {
   "cell_type": "code",
   "execution_count": 3,
   "metadata": {},
   "outputs": [
    {
     "data": {
      "text/plain": [
       "0.012329630899041492"
      ]
     },
     "metadata": {},
     "output_type": "display_data"
    }
   ],
   "source": [
    "# this is necessary when using RuntimeGeneratedFunctions\n",
    "using RuntimeGeneratedFunctions\n",
    "RuntimeGeneratedFunctions.init(@__MODULE__)\n",
    "\n",
    "func = get_compute_function(graph, proc, cpu_st(), @__MODULE__)\n",
    "func(psp)"
   ]
  },
  {
   "cell_type": "code",
   "execution_count": 4,
   "metadata": {},
   "outputs": [
    {
     "data": {
      "text/plain": [
       "BenchmarkTools.Trial: 10000 samples with 1 evaluation.\n",
       " Range \u001b[90m(\u001b[39m\u001b[36m\u001b[1mmin\u001b[22m\u001b[39m … \u001b[35mmax\u001b[39m\u001b[90m):  \u001b[39m\u001b[36m\u001b[1m82.900 μs\u001b[22m\u001b[39m … \u001b[35m 30.548 ms\u001b[39m  \u001b[90m┊\u001b[39m GC \u001b[90m(\u001b[39mmin … max\u001b[90m): \u001b[39m0.00% … 99.42%\n",
       " Time  \u001b[90m(\u001b[39m\u001b[34m\u001b[1mmedian\u001b[22m\u001b[39m\u001b[90m):     \u001b[39m\u001b[34m\u001b[1m88.966 μs               \u001b[22m\u001b[39m\u001b[90m┊\u001b[39m GC \u001b[90m(\u001b[39mmedian\u001b[90m):    \u001b[39m0.00%\n",
       " Time  \u001b[90m(\u001b[39m\u001b[32m\u001b[1mmean\u001b[22m\u001b[39m ± \u001b[32mσ\u001b[39m\u001b[90m):   \u001b[39m\u001b[32m\u001b[1m98.580 μs\u001b[22m\u001b[39m ± \u001b[32m306.680 μs\u001b[39m  \u001b[90m┊\u001b[39m GC \u001b[90m(\u001b[39mmean ± σ\u001b[90m):  \u001b[39m4.94% ±  5.00%\n",
       "\n",
       "  \u001b[39m▁\u001b[39m▁\u001b[39m▆\u001b[39m█\u001b[34m▆\u001b[39m\u001b[39m▅\u001b[39m▄\u001b[39m▄\u001b[39m▃\u001b[39m▃\u001b[32m▃\u001b[39m\u001b[39m▂\u001b[39m▂\u001b[39m▂\u001b[39m▁\u001b[39m \u001b[39m \u001b[39m \u001b[39m \u001b[39m \u001b[39m \u001b[39m \u001b[39m \u001b[39m \u001b[39m \u001b[39m \u001b[39m \u001b[39m \u001b[39m \u001b[39m \u001b[39m \u001b[39m \u001b[39m \u001b[39m \u001b[39m \u001b[39m \u001b[39m▁\u001b[39m▁\u001b[39m \u001b[39m \u001b[39m \u001b[39m \u001b[39m \u001b[39m \u001b[39m \u001b[39m \u001b[39m \u001b[39m \u001b[39m \u001b[39m \u001b[39m \u001b[39m \u001b[39m \u001b[39m \u001b[39m \u001b[39m \u001b[39m \u001b[39m \u001b[39m \u001b[39m \u001b[39m \u001b[39m▂\n",
       "  \u001b[39m█\u001b[39m█\u001b[39m█\u001b[39m█\u001b[34m█\u001b[39m\u001b[39m█\u001b[39m█\u001b[39m█\u001b[39m█\u001b[39m█\u001b[32m█\u001b[39m\u001b[39m█\u001b[39m█\u001b[39m█\u001b[39m█\u001b[39m█\u001b[39m█\u001b[39m█\u001b[39m█\u001b[39m▇\u001b[39m▆\u001b[39m▆\u001b[39m▅\u001b[39m▆\u001b[39m▆\u001b[39m▆\u001b[39m▆\u001b[39m▅\u001b[39m▃\u001b[39m▄\u001b[39m▁\u001b[39m▄\u001b[39m▅\u001b[39m▄\u001b[39m▆\u001b[39m█\u001b[39m█\u001b[39m█\u001b[39m█\u001b[39m█\u001b[39m▇\u001b[39m▆\u001b[39m▆\u001b[39m▅\u001b[39m▆\u001b[39m▅\u001b[39m▃\u001b[39m▄\u001b[39m▅\u001b[39m▅\u001b[39m▄\u001b[39m▄\u001b[39m▁\u001b[39m▄\u001b[39m▄\u001b[39m▃\u001b[39m▄\u001b[39m▅\u001b[39m▅\u001b[39m▆\u001b[39m \u001b[39m█\n",
       "  82.9 μs\u001b[90m       \u001b[39m\u001b[90mHistogram: \u001b[39m\u001b[90m\u001b[1mlog(\u001b[22m\u001b[39m\u001b[90mfrequency\u001b[39m\u001b[90m\u001b[1m)\u001b[22m\u001b[39m\u001b[90m by time\u001b[39m       176 μs \u001b[0m\u001b[1m<\u001b[22m\n",
       "\n",
       " Memory estimate\u001b[90m: \u001b[39m\u001b[33m184.94 KiB\u001b[39m, allocs estimate\u001b[90m: \u001b[39m\u001b[33m1378\u001b[39m."
      ]
     },
     "metadata": {},
     "output_type": "display_data"
    }
   ],
   "source": [
    "using BenchmarkTools\n",
    "@benchmark func($psp)"
   ]
  }
 ],
 "metadata": {
  "kernelspec": {
   "display_name": "Julia 1.10.5",
   "language": "julia",
   "name": "julia-1.10"
  },
  "language_info": {
   "file_extension": ".jl",
   "mimetype": "application/julia",
   "name": "julia",
   "version": "1.10.5"
  }
 },
 "nbformat": 4,
 "nbformat_minor": 2
}
